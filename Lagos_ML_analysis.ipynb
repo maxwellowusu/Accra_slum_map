{
  "nbformat": 4,
  "nbformat_minor": 0,
  "metadata": {
    "colab": {
      "name": "Lagos_ML_analysis.ipynb",
      "provenance": [],
      "collapsed_sections": [],
      "machine_shape": "hm",
      "include_colab_link": true
    },
    "kernelspec": {
      "name": "python3",
      "display_name": "Python 3"
    },
    "accelerator": "TPU"
  },
  "cells": [
    {
      "cell_type": "markdown",
      "metadata": {
        "id": "view-in-github",
        "colab_type": "text"
      },
      "source": [
        "<a href=\"https://colab.research.google.com/github/maxwellowusu/Accra_slum_map/blob/master/Lagos_ML_analysis.ipynb\" target=\"_parent\"><img src=\"https://colab.research.google.com/assets/colab-badge.svg\" alt=\"Open In Colab\"/></a>"
      ]
    },
    {
      "cell_type": "markdown",
      "metadata": {
        "id": "4cbgwZWWfWpp"
      },
      "source": [
        "# New Section"
      ]
    },
    {
      "cell_type": "markdown",
      "source": [
        "**Mount G-drive to notebook**"
      ],
      "metadata": {
        "id": "p7HmrEurH9w2"
      }
    },
    {
      "cell_type": "code",
      "source": [
        "from google.colab import drive\n",
        "drive.mount('/content/drive')"
      ],
      "metadata": {
        "colab": {
          "base_uri": "https://localhost:8080/"
        },
        "id": "txlwZknXKvx-",
        "outputId": "135dcca5-4733-44dd-9280-fd1296be281a"
      },
      "execution_count": 1,
      "outputs": [
        {
          "output_type": "stream",
          "name": "stdout",
          "text": [
            "Mounted at /content/drive\n"
          ]
        }
      ]
    },
    {
      "cell_type": "markdown",
      "source": [
        "**Install missing packages if needed** "
      ],
      "metadata": {
        "id": "3i4ml0xlIHll"
      }
    },
    {
      "cell_type": "code",
      "metadata": {
        "id": "pafL7Li0jyXW",
        "colab": {
          "base_uri": "https://localhost:8080/"
        },
        "outputId": "af90aa24-d1a5-45b6-c5a3-d6d9fdcaba35"
      },
      "source": [
        "!pip install rasterio\n",
        "!pip install gpytorch"
      ],
      "execution_count": 2,
      "outputs": [
        {
          "output_type": "stream",
          "name": "stdout",
          "text": [
            "Collecting rasterio\n",
            "  Downloading rasterio-1.2.10-cp37-cp37m-manylinux1_x86_64.whl (19.3 MB)\n",
            "\u001b[K     |████████████████████████████████| 19.3 MB 4.8 MB/s \n",
            "\u001b[?25hRequirement already satisfied: certifi in /usr/local/lib/python3.7/dist-packages (from rasterio) (2021.10.8)\n",
            "Collecting cligj>=0.5\n",
            "  Downloading cligj-0.7.2-py3-none-any.whl (7.1 kB)\n",
            "Requirement already satisfied: click>=4.0 in /usr/local/lib/python3.7/dist-packages (from rasterio) (7.1.2)\n",
            "Requirement already satisfied: numpy in /usr/local/lib/python3.7/dist-packages (from rasterio) (1.19.5)\n",
            "Requirement already satisfied: attrs in /usr/local/lib/python3.7/dist-packages (from rasterio) (21.4.0)\n",
            "Collecting affine\n",
            "  Downloading affine-2.3.0-py2.py3-none-any.whl (15 kB)\n",
            "Collecting click-plugins\n",
            "  Downloading click_plugins-1.1.1-py2.py3-none-any.whl (7.5 kB)\n",
            "Requirement already satisfied: setuptools in /usr/local/lib/python3.7/dist-packages (from rasterio) (57.4.0)\n",
            "Collecting snuggs>=1.4.1\n",
            "  Downloading snuggs-1.4.7-py3-none-any.whl (5.4 kB)\n",
            "Requirement already satisfied: pyparsing>=2.1.6 in /usr/local/lib/python3.7/dist-packages (from snuggs>=1.4.1->rasterio) (3.0.7)\n",
            "Installing collected packages: snuggs, cligj, click-plugins, affine, rasterio\n",
            "Successfully installed affine-2.3.0 click-plugins-1.1.1 cligj-0.7.2 rasterio-1.2.10 snuggs-1.4.7\n",
            "Collecting gpytorch\n",
            "  Downloading gpytorch-1.6.0.tar.gz (310 kB)\n",
            "\u001b[K     |████████████████████████████████| 310 kB 5.3 MB/s \n",
            "\u001b[?25hBuilding wheels for collected packages: gpytorch\n",
            "  Building wheel for gpytorch (setup.py) ... \u001b[?25l\u001b[?25hdone\n",
            "  Created wheel for gpytorch: filename=gpytorch-1.6.0-py2.py3-none-any.whl size=509889 sha256=077016420aae32f1c1ea1fddacfce8b2534452d5fd53cecc6c77e0191c989355\n",
            "  Stored in directory: /root/.cache/pip/wheels/66/b5/89/34c06ad393a6feb72b4cdde46d0f1c667f3e2632960f9df109\n",
            "Successfully built gpytorch\n",
            "Installing collected packages: gpytorch\n",
            "Successfully installed gpytorch-1.6.0\n"
          ]
        }
      ]
    },
    {
      "cell_type": "markdown",
      "source": [
        "**Import packages**"
      ],
      "metadata": {
        "id": "a-ZzTHQyIQS6"
      }
    },
    {
      "cell_type": "code",
      "source": [
        "import numpy as np\n",
        "from sklearn import preprocessing\n",
        "import torch\n",
        "import pandas as pd\n",
        "import rasterio\n",
        "from rasterio.plot import show\n",
        "import gpytorch\n",
        "import gdal\n",
        "import glob\n",
        "import os"
      ],
      "metadata": {
        "id": "sio1JjdaJNSV"
      },
      "execution_count": 3,
      "outputs": []
    },
    {
      "cell_type": "markdown",
      "source": [
        "**Importing contextual features from multiple folders**"
      ],
      "metadata": {
        "id": "8ys-hKodIUmk"
      }
    },
    {
      "cell_type": "code",
      "source": [
        "# set main path. \n",
        "# end path with /\n",
        "Path = '/content/drive/MyDrive/Project_data_IDEAMAPS/lagos/spfea_contextual_features/'\n",
        "filelist = os.listdir(Path)\n",
        "\n",
        "#Make empty list to store all paths to subdirectories in.\n",
        "Path2 = []\n",
        "for x in filelist:\n",
        "    if x.startswith('fourier', 0, 10):\n",
        "        Path2.append(Path + x+ '/')\n",
        "    # if x.startswith('gabor', 0, 10):\n",
        "    #     Path2.append(Path + x+ '/')\n",
        "    # if x.startswith('hog', 0, 10):\n",
        "    #     Path2.append(Path + x+ '/')\n",
        "    # if x.startswith('lac', 0, 10):\n",
        "    #     Path2.append(Path + x+ '/')\n",
        "    # if x.startswith('ibpm', 0, 10):\n",
        "    #     Path2.append(Path + x+ '/')\n",
        "    # if x.startswith('isr', 0, 10):\n",
        "    #     Path2.append(Path + x+ '/')\n",
        "    # if x.startswith('mean', 0, 10):\n",
        "    #     Path2.append(Path + x+ '/')\n",
        "    # if x.startswith('ndvi', 0, 10):\n",
        "    #     Path2.append(Path + x+ '/')\n",
        "    # if x.startswith('orb', 0, 10):\n",
        "    #     Path2.append(Path + x+ '/')\n",
        "    # if x.startswith('pantex', 0, 10):\n",
        "    #     Path2.append(Path + x+ '/')\n",
        "    # if x.startswith('sfs', 0, 10):\n",
        "    #     Path2.append(Path + x+ '/')\n",
        "        \n",
        "file_list3 = []\n",
        "for i in Path2:\n",
        "    filelist2 = os.listdir(i)\n",
        "    for j in filelist2:\n",
        "        if j.endswith('.tif'):\n",
        "            file = i+j\n",
        "            file_list3.append(file)\n",
        "\n",
        "print(file_list3)"
      ],
      "metadata": {
        "id": "KVJHBHk6JNVO",
        "colab": {
          "base_uri": "https://localhost:8080/"
        },
        "outputId": "c0b17cf8-40a0-4b75-c935-10eb15fc5be2"
      },
      "execution_count": 4,
      "outputs": [
        {
          "output_type": "stream",
          "name": "stdout",
          "text": [
            "['/content/drive/MyDrive/Project_data_IDEAMAPS/lagos/spfea_contextual_features/fourier/fourier_sc31_variance.tif', '/content/drive/MyDrive/Project_data_IDEAMAPS/lagos/spfea_contextual_features/fourier/fourier_sc51_mean.tif', '/content/drive/MyDrive/Project_data_IDEAMAPS/lagos/spfea_contextual_features/fourier/fourier_sc51_variance.tif', '/content/drive/MyDrive/Project_data_IDEAMAPS/lagos/spfea_contextual_features/fourier/fourier_sc71_mean.tif', '/content/drive/MyDrive/Project_data_IDEAMAPS/lagos/spfea_contextual_features/fourier/fourier_sc71_variance.tif', '/content/drive/MyDrive/Project_data_IDEAMAPS/lagos/spfea_contextual_features/fourier/fourier_sc31_mean.tif']\n"
          ]
        }
      ]
    },
    {
      "cell_type": "markdown",
      "source": [
        "**Converting .tif files to .vrt**"
      ],
      "metadata": {
        "id": "AiUrXpJFIeeK"
      }
    },
    {
      "cell_type": "code",
      "source": [
        "vrt_options = gdal.BuildVRTOptions(separate= True)\n",
        "test_vrt = gdal.BuildVRT('test3.vrt', file_list3 , options=vrt_options)\n",
        "\n",
        "test_vrt = None\n",
        "\n",
        "# with rasterio.open('test2.vrt') as raster_vrt:\n",
        "\n",
        "#     rasterio.plot.show(raster_vrt)"
      ],
      "metadata": {
        "id": "N0PmV55GJNX8"
      },
      "execution_count": 5,
      "outputs": []
    },
    {
      "cell_type": "markdown",
      "source": [
        "**Read .vrt using rasterio**"
      ],
      "metadata": {
        "id": "f7EOB-EKJCPB"
      }
    },
    {
      "cell_type": "code",
      "source": [
        "fp = '/content/test3.vrt'\n",
        "covariate_features = rasterio.open(fp)\n",
        "data_loc = covariate_features.read()\n",
        "data_loc = np.array(data_loc)\n",
        "#Print data shape\n",
        "show(covariate_features)\n",
        "data_loc.shape"
      ],
      "metadata": {
        "id": "2Rkr6oxVJNae",
        "colab": {
          "base_uri": "https://localhost:8080/",
          "height": 180
        },
        "outputId": "cf20b23a-82fd-4e66-f317-08047caba32e"
      },
      "execution_count": 6,
      "outputs": [
        {
          "output_type": "display_data",
          "data": {
            "image/png": "[encoded data removed]",
            "text/plain": [
              "<Figure size 432x288 with 1 Axes>"
            ]
          },
          "metadata": {
            "needs_background": "light"
          }
        },
        {
          "output_type": "execute_result",
          "data": {
            "text/plain": [
              "(6, 6850, 19930)"
            ]
          },
          "metadata": {},
          "execution_count": 6
        }
      ]
    },
    {
      "cell_type": "code",
      "source": [
        "# We now process our predictors. We remove categorial variables (small fix for now) and normalize continuous variables.\n",
        "data_glob = covariate_features.read()\n",
        "#Get data extent\n",
        "n = data_glob.shape[0]\n",
        "h = data_glob.shape[1]\n",
        "w = data_glob.shape[2]\n",
        "\n",
        "data_glob = data_glob.reshape(n,h*w)\n",
        "#Scale data\n",
        "scaler = preprocessing.StandardScaler().fit(data_glob)\n",
        "data_glob = scaler.transform(data_glob)\n",
        "data_glob = data_glob.reshape(n,h,w)\n",
        "#Exclude categorical variables\n",
        "#data_glob = np.delete(data_glob,np.array(np.where(unqs<14))[0],axis=0)\n",
        "n = data_glob.shape[0]\n",
        "#Print data shape\n",
        "data_glob.shape"
      ],
      "metadata": {
        "id": "TDeUegdMQjX9",
        "colab": {
          "base_uri": "https://localhost:8080/"
        },
        "outputId": "6e961266-851a-4a4f-8b0e-e9c2ded55b9a"
      },
      "execution_count": 7,
      "outputs": [
        {
          "output_type": "execute_result",
          "data": {
            "text/plain": [
              "(6, 6850, 19930)"
            ]
          },
          "metadata": {},
          "execution_count": 7
        }
      ]
    },
    {
      "cell_type": "markdown",
      "source": [
        "**Resampling training data** "
      ],
      "metadata": {
        "id": "2pm8sU9dJMXu"
      }
    },
    {
      "cell_type": "code",
      "source": [
        "# resampling training data \n",
        "tr = '/content/drive/MyDrive/Project_data_IDEAMAPS/lagos/lag_training_data/lag_training_2021.tif'\n",
        "g = gdal.Warp(\"resample.tif\", tr, xRes =  0.00008333333300000001029, yRes= 0.00008333333300000003198, resampleAlg= 'bilinear', format=\"GTiff\",\n",
        "              options=[\"COMPRESS=LZW\", \"TILED=YES\"]) # if you want\n",
        "g = None # Close file and flush to disk\n"
      ],
      "metadata": {
        "id": "SnNrlRywoUOE"
      },
      "execution_count": 9,
      "outputs": []
    },
    {
      "cell_type": "markdown",
      "source": [
        "**Load training data**"
      ],
      "metadata": {
        "id": "B_zSG0RmJXbI"
      }
    },
    {
      "cell_type": "code",
      "source": [
        "# Next, we read and process our outcome variable  𝑦\n",
        "fp = '/content/resample.tif'\n",
        "Tr = rasterio.open(fp)\n",
        "data_loc = Tr.read()\n",
        "data_loc = np.array(data_loc)\n",
        "#Print data shape\n",
        "show(Tr)\n",
        "data_loc.shape"
      ],
      "metadata": {
        "id": "5gplVgfCJNc9",
        "colab": {
          "base_uri": "https://localhost:8080/",
          "height": 180
        },
        "outputId": "02f114f8-d82b-4ae3-baa0-e317f5138a6f"
      },
      "execution_count": 10,
      "outputs": [
        {
          "output_type": "display_data",
          "data": {
            "image/png": "[encoded data removed]",
            "text/plain": [
              "<Figure size 432x288 with 1 Axes>"
            ]
          },
          "metadata": {
            "needs_background": "light"
          }
        },
        {
          "output_type": "execute_result",
          "data": {
            "text/plain": [
              "(1, 6850, 19930)"
            ]
          },
          "metadata": {},
          "execution_count": 10
        }
      ]
    },
    {
      "cell_type": "code",
      "source": [
        "(unique, counts) = np.unique(data_loc, return_counts=True)\n",
        "frequencies = np.asarray((unique, counts)).T\n",
        "frequencies"
      ],
      "metadata": {
        "colab": {
          "base_uri": "https://localhost:8080/"
        },
        "id": "4Sase4lMQEhu",
        "outputId": "cc1115bf-7ad1-482b-8197-3eb123c7e373"
      },
      "execution_count": 11,
      "outputs": [
        {
          "output_type": "execute_result",
          "data": {
            "text/plain": [
              "array([[     -999, 131764500],\n",
              "       [        0,   1516494],\n",
              "       [        1,     34054],\n",
              "       [        2,   3205452]])"
            ]
          },
          "metadata": {},
          "execution_count": 11
        }
      ]
    },
    {
      "cell_type": "code",
      "source": [
        "#Combine data\n",
        "y = np.array(data_loc[0,...]).reshape(1,h,w)\n",
        "x = data_glob\n",
        "data = np.concatenate((y,x),axis=0)\n",
        "#Print data shape\n",
        "data.shape"
      ],
      "metadata": {
        "colab": {
          "base_uri": "https://localhost:8080/"
        },
        "id": "JeEA2uFNQEk1",
        "outputId": "0a7dc735-8c47-4b45-960a-9ae1e9fdb979"
      },
      "execution_count": 12,
      "outputs": [
        {
          "output_type": "execute_result",
          "data": {
            "text/plain": [
              "(7, 6850, 19930)"
            ]
          },
          "metadata": {},
          "execution_count": 12
        }
      ]
    },
    {
      "cell_type": "markdown",
      "source": [
        "**Split data into train and test set**"
      ],
      "metadata": {
        "id": "gESlFTmeJgO7"
      }
    },
    {
      "cell_type": "code",
      "source": [
        "# We now split our data into training and test set\n",
        "data = data.reshape(data.shape[0], -1)\n",
        "#Train data\n",
        "data_train = data[:, ~np.isnan(data).any(axis=0)]\n",
        "#data_train = data_train[:, (data_train!=-999).any(axis=0)]\n",
        "data_train = data_train[:, data_train[0,...]!=-999]\n",
        "y = data_train[0,...]\n",
        "x = data_train[1:,...]\n",
        "#Test data\n",
        "#data_test = data[:, np.isnan(data).any(axis=0)]\n",
        "#data_test = data_test[:, (data_test==-999).any(axis=0)]\n",
        "#data_test = data_test[:,  data_test[0,...]==-999]\n",
        "#y_test = data_test[0,...]\n",
        "#x_test = data_test[1:,...]\n",
        "#Let's check the shape\n",
        "print(data_train.shape)\n",
        "#print(data_test.shape)"
      ],
      "metadata": {
        "colab": {
          "base_uri": "https://localhost:8080/"
        },
        "id": "Y4_Ua8MlQEqT",
        "outputId": "0f3aac0e-72a8-45e5-c24c-6437f08342ba"
      },
      "execution_count": 13,
      "outputs": [
        {
          "output_type": "stream",
          "name": "stdout",
          "text": [
            "(7, 4756000)\n"
          ]
        }
      ]
    },
    {
      "cell_type": "code",
      "source": [
        "(unique, counts) = np.unique(y, return_counts=True)\n",
        "frequencies = np.asarray((unique, counts)).T\n",
        "frequencies"
      ],
      "metadata": {
        "colab": {
          "base_uri": "https://localhost:8080/"
        },
        "id": "GAvh4vsLnK5d",
        "outputId": "a11bbb36-88cd-4b18-9438-2ca005a5da73"
      },
      "execution_count": 14,
      "outputs": [
        {
          "output_type": "execute_result",
          "data": {
            "text/plain": [
              "array([[0.000000e+00, 1.516494e+06],\n",
              "       [1.000000e+00, 3.405400e+04],\n",
              "       [2.000000e+00, 3.205452e+06]])"
            ]
          },
          "metadata": {},
          "execution_count": 14
        }
      ]
    },
    {
      "cell_type": "code",
      "source": [
        "# Split into train / test data.\n",
        "from sklearn.model_selection import train_test_split\n",
        "test_size = 0.3\n",
        "x = np.transpose(x)\n",
        "y = np.transpose(y)\n",
        "x_train, x_test, y_train, y_test = train_test_split(x,y, test_size=test_size)"
      ],
      "metadata": {
        "id": "wo3wC0aRqvhL"
      },
      "execution_count": 15,
      "outputs": []
    },
    {
      "cell_type": "markdown",
      "source": [
        "**Modeling **"
      ],
      "metadata": {
        "id": "sNiIs96XJoRS"
      }
    },
    {
      "cell_type": "code",
      "source": [
        "# Now we're ready for modeling!\n",
        "from sklearn.linear_model import LogisticRegression, LogisticRegressionCV\n",
        "from sklearn.metrics import accuracy_score\n",
        "from sklearn.ensemble import RandomForestClassifier\n",
        "from sklearn.ensemble import GradientBoostingClassifier\n",
        "from sklearn.metrics import confusion_matrix\n",
        "\n",
        "# model_lr = LogisticRegression(multi_class=\"multinomial\", max_iter = 50000)\n",
        "# model_lr.fit(x_train, y_train)\n",
        "\n",
        "# pred = model_lr.predict(x_train)\n",
        "# acc_train = accuracy_score(y_train, pred)\n",
        "# print((\"Train accuracy: %f\") % (acc_train))\n",
        "\n",
        "# pred = model_lr.predict(x_test)\n",
        "# acc_test = accuracy_score(y_test, pred)\n",
        "# print((\"Test accuracy: %f\") % (acc_test))"
      ],
      "metadata": {
        "id": "U2pJH6ByqvkC"
      },
      "execution_count": 16,
      "outputs": []
    },
    {
      "cell_type": "code",
      "source": [
        "cm = confusion_matrix(y_test, pred)\n",
        "cm = cm.astype('float') / cm.sum(axis=1)[:, np.newaxis]\n",
        "cm.diagonal()"
      ],
      "metadata": {
        "colab": {
          "base_uri": "https://localhost:8080/"
        },
        "id": "1rD9NIVfqvmr",
        "outputId": "2829d272-ee67-4a10-be34-d030ee84afae"
      },
      "execution_count": null,
      "outputs": [
        {
          "output_type": "execute_result",
          "data": {
            "text/plain": [
              "array([0.31800274, 0.        , 0.89084886])"
            ]
          },
          "metadata": {},
          "execution_count": 17
        }
      ]
    },
    {
      "cell_type": "code",
      "source": [
        "model_rf = RandomForestClassifier()\n",
        "model_rf.fit(x_train, y_train)\n",
        "\n",
        "pred = model_rf.predict(x_train)\n",
        "acc_train = accuracy_score(y_train, pred)\n",
        "print((\"Train accuracy: %f\") % (acc_train))\n",
        "\n",
        "pred = model_rf.predict(x_test)\n",
        "acc_test = accuracy_score(y_test, pred)\n",
        "print((\"Test accuracy: %f\") % (acc_test))"
      ],
      "metadata": {
        "colab": {
          "base_uri": "https://localhost:8080/"
        },
        "id": "ES_tHKwUqvpe",
        "outputId": "0ff7ec7d-b192-47b2-d501-6aba4786349f"
      },
      "execution_count": 17,
      "outputs": [
        {
          "output_type": "stream",
          "name": "stdout",
          "text": [
            "Train accuracy: 0.999992\n",
            "Test accuracy: 0.694545\n"
          ]
        }
      ]
    },
    {
      "cell_type": "code",
      "source": [
        "cm = confusion_matrix(y_test, pred)\n",
        "cm = cm.astype('float') / cm.sum(axis=1)[:, np.newaxis]\n",
        "cm.diagonal()"
      ],
      "metadata": {
        "id": "B2iGpuX8rbRj",
        "colab": {
          "base_uri": "https://localhost:8080/"
        },
        "outputId": "4eec4c77-1918-45d8-ee29-5985c0c5a7be"
      },
      "execution_count": 18,
      "outputs": [
        {
          "output_type": "execute_result",
          "data": {
            "text/plain": [
              "array([3.87480577e-01, 1.93255387e-04, 8.47032227e-01])"
            ]
          },
          "metadata": {},
          "execution_count": 18
        }
      ]
    },
    {
      "cell_type": "code",
      "source": [
        "model_gb = GradientBoostingClassifier()\n",
        "model_gb.fit(x_train, y_train)\n",
        "\n",
        "pred = model_gb.predict(x_train)\n",
        "acc_train = accuracy_score(y_train, pred)\n",
        "print((\"Train accuracy: %f\") % (acc_train))\n",
        "\n",
        "pred = model_gb.predict(x_test)\n",
        "acc_test = accuracy_score(y_test, pred)\n",
        "print((\"Test accuracy: %f\") % (acc_test))"
      ],
      "metadata": {
        "id": "QfEIM7bcrbUa"
      },
      "execution_count": null,
      "outputs": []
    },
    {
      "cell_type": "code",
      "source": [
        "cm = confusion_matrix(y_test, pred)\n",
        "cm = cm.astype('float') / cm.sum(axis=1)[:, np.newaxis]\n",
        "cm.diagonal()"
      ],
      "metadata": {
        "id": "Zry_uhEerbXT"
      },
      "execution_count": null,
      "outputs": []
    },
    {
      "cell_type": "code",
      "source": [
        ""
      ],
      "metadata": {
        "id": "ewcK4UKirbZs"
      },
      "execution_count": null,
      "outputs": []
    },
    {
      "cell_type": "code",
      "source": [
        "# Make predition \n",
        "map_x = np.transpose(data[1:,...])\n",
        "map_x = np.nan_to_num(map_x)\n",
        "pred_map = model_rf.predict(map_x)\n",
        "pred_map = pred_map.reshape(685, 1993)"
      ],
      "metadata": {
        "id": "0Tyl77iBC_40"
      },
      "execution_count": null,
      "outputs": []
    },
    {
      "cell_type": "code",
      "source": [
        "import matplotlib.pyplot as plt\n",
        "import matplotlib.patches as mpatches\n",
        "import matplotlib\n",
        "from matplotlib import colors\n",
        "\n",
        "cmap = colors.ListedColormap(['green', 'blue', 'yellow'])\n",
        "bounds=[0,1,2]\n",
        "norm = colors.BoundaryNorm(bounds, cmap.N)\n",
        "\n",
        "# tell imshow about color map so that only set colors are used\n",
        "fig = plt.figure(figsize = (13,9)) # create a 5 x 5 figure \n",
        "ax = fig.add_subplot(111)\n",
        "ims = ax.imshow(pred_map, interpolation='none')\n",
        "#img = plt.imshow(pred_map, interpolation='nearest', origin='lower', cmap=cmap, norm=norm)\n",
        "ax.set_ylim(300,700)\n",
        "ax.set_xlim(500,1000)\n",
        "ax.axis('off')\n",
        "ax.invert_yaxis()"
      ],
      "metadata": {
        "id": "gut_BngdC_7J"
      },
      "execution_count": null,
      "outputs": []
    },
    {
      "cell_type": "code",
      "source": [
        "map_x = np.transpose(data[1:,...])\n",
        "map_x = np.nan_to_num(map_x)\n",
        "pred_map = model_lr.predict_proba(map_x)\n",
        "pred_map = pred_map.reshape(685, 1993, 3)\n",
        "\n",
        "# tell imshow about color map so that only set colors are used\n",
        "fig = plt.figure(figsize = (13,9)) # create a 5 x 5 figure \n",
        "ax = fig.add_subplot(111)\n",
        "ims = ax.imshow(pred_map[:,:,1])\n",
        "#img = plt.imshow(pred_map, interpolation='nearest', origin='lower', cmap=cmap, norm=norm)\n",
        "ax.set_ylim(300,700)\n",
        "ax.set_xlim(500,1000)\n",
        "ax.set_title('Predicted Deprivation Probabilities for Lagos (Model: Logistic Regression)')\n",
        "ax.axis('off')\n",
        "ax.invert_yaxis()"
      ],
      "metadata": {
        "id": "xO_ulEOjKT8b"
      },
      "execution_count": null,
      "outputs": []
    },
    {
      "cell_type": "code",
      "source": [
        "pred_map = model_rf.predict_proba(map_x)\n",
        "pred_map = pred_map.reshape(685, 1993, 3)\n",
        "\n",
        "# tell imshow about color map so that only set colors are used\n",
        "fig = plt.figure(figsize = (13,9)) # create a 5 x 5 figure \n",
        "ax = fig.add_subplot(111)\n",
        "ims = ax.imshow(pred_map[:,:,1])\n",
        "#img = plt.imshow(pred_map, interpolation='nearest', origin='lower', cmap=cmap, norm=norm)\n",
        "ax.set_ylim(300,700)\n",
        "ax.set_xlim(500,1000)\n",
        "ax.set_title('Predicted Deprivation Probabilities for Lagos (Model: Random Forest)')\n",
        "ax.axis('off')\n",
        "ax.invert_yaxis()"
      ],
      "metadata": {
        "id": "MVbf-to_KUJ9"
      },
      "execution_count": null,
      "outputs": []
    },
    {
      "cell_type": "code",
      "source": [
        "pred_map = model_gb.predict_proba(map_x)\n",
        "pred_map = pred_map.reshape(685, 1993, 3)\n",
        "\n",
        "# tell imshow about color map so that only set colors are used\n",
        "fig = plt.figure(figsize = (13,9)) # create a 5 x 5 figure \n",
        "ax = fig.add_subplot(111)\n",
        "ims = ax.imshow(pred_map[:,:,1])\n",
        "#img = plt.imshow(pred_map, interpolation='nearest', origin='lower', cmap=cmap, norm=norm)\n",
        "ax.set_ylim(300,700)\n",
        "ax.set_xlim(500,1000)\n",
        "ax.set_title('Predicted Deprivation Probabilities for Lagos (Model: Gradient Boosting)')\n",
        "ax.axis('off')\n",
        "ax.invert_yaxis()"
      ],
      "metadata": {
        "id": "dyg7GVKYKUMq"
      },
      "execution_count": null,
      "outputs": []
    },
    {
      "cell_type": "code",
      "source": [
        "# Get features of importance "
      ],
      "metadata": {
        "id": "jt4CLWGzKi3K"
      },
      "execution_count": null,
      "outputs": []
    },
    {
      "cell_type": "code",
      "source": [
        "feature_names = [\"fs_dist_fs_2020\"\n",
        ",\"fs_dist_hf_2019\"\n",
        ",\"fs_dist_hf1_2020\"\n",
        ",\"fs_dist_market_2020\"\n",
        ",\"fs_dist_mosques_2017\"\n",
        ",\"fs_dist_school_2020\"\n",
        ",\"fs_dist_school1_2018\"\n",
        ",\"fs_dist_well_2018\"\n",
        ",\"in_electric_dist_2020\"\n",
        ",\"in_dist_rd_2016\"\n",
        ",\"in_dist_rd_intersect_2016\"\n",
        ",\"in_dist_waterway_2016\"\n",
        ",\"in_night_light_2016\"\n",
        ",\"ph_base_water_2010\"\n",
        ",\"ph_bio_dvst_2015\"\n",
        ",\"ph_climate_risk_2020\"\n",
        ",\"ph_dist_aq_veg_2015\"\n",
        ",\"ph_dist_art_surface_2015\"\n",
        ",\"ph_dist_bare_2015\"\n",
        ",\"ph_dist_cultivated_2015\"\n",
        ",\"ph_dist_herb_2015\"\n",
        ",\"ph_dist_inland_water_2018\"\n",
        ",\"ph_dist_open_coast_2020\"\n",
        ",\"ph_dist_riv_network_2007\"\n",
        ",\"ph_dist_shrub_2015\"\n",
        ",\"ph_dist_sparse_veg_2015\"\n",
        ",\"ph_dist_woody_tree_2015\"\n",
        ",\"ph_gdmhz_2005\"\n",
        ",\"ph_grd_water_2000\"\n",
        ",\"ph_hzd_index_2011\"\n",
        ",\"ph_land_c1_2019\"\n",
        ",\"ph_land_c2_2020\"\n",
        ",\"ph_max_tem_2019\"\n",
        ",\"ph_ndvi_2019\"\n",
        ",\"ph_pm25_2016\"\n",
        ",\"ph_slope_2000\"\n",
        ",\"po_pop_fb_2018\"\n",
        ",\"po_pop_un_2020\"\n",
        ",\"ses_an_visits_2016\"\n",
        ",\"ses_child_stunted_2018\"\n",
        ",\"ses_dpt3_2018\"\n",
        ",\"ses_hf_delivery_2018\"\n",
        ",\"ses_impr_water_src_2016\"\n",
        ",\",ses_ITN_2016\"\n",
        ",\"ses_m_lit_2018\"\n",
        ",\"ses_measles_2018\"\n",
        ",\"ses_odef_2018\"\n",
        ",\"ses_pfpr_2017\"\n",
        ",\"ses_preg_2017\"\n",
        ",\"ses_unmet_need_2018\"\n",
        ",\"ses_w_anemia_2018\"\n",
        ",\"ses_w_lit_2018\"\n",
        ",\"sh_dist_conflict_2020\"\n",
        ",\"sh_dist_mnr_pofw_2019\"\n",
        ",\"sh_dist_pofw_2019\"\n",
        ",\"sh_ethno_den_2020\"\n",
        ",\"sh_pol_relev_ethnic_gr_2019\"\n",
        ",\"uu_bld_count_2020\"\n",
        ",\"uu_bld_den_2020\"\n",
        ",\"ho_impr_housing_2015\"\n",
        ",\"uu_urb_bldg_2018\"]"
      ],
      "metadata": {
        "id": "UqJiZWSeKi6B"
      },
      "execution_count": null,
      "outputs": []
    },
    {
      "cell_type": "code",
      "source": [
        "importances = model_rf.feature_importances_\n",
        "std = np.std([tree.feature_importances_ for tree in model_rf.estimators_], axis=0)\n",
        "\n",
        "import pandas as pd\n",
        "forest_importances = pd.Series(importances, index=feature_names)\n",
        "\n",
        "fig, ax = plt.subplots(figsize = (15,7))\n",
        "forest_importances.plot.bar(yerr=std, ax=ax)\n",
        "ax.set_title(\"Feature importances using MDI\")\n",
        "ax.set_ylabel(\"Mean decrease in impurity\")\n",
        "fig.tight_layout()"
      ],
      "metadata": {
        "id": "sIMPdrwBKi8r"
      },
      "execution_count": null,
      "outputs": []
    },
    {
      "cell_type": "code",
      "source": [
        "fp = '/content/drive/MyDrive/Project_data_IDEAMAPS/lagos/lag_covariate_compilation/lag_covariates_compilation.tif'\n",
        "img = rasterio.open(fp)\n",
        "data_glob = img.read()\n",
        "#Get data extent\n",
        "n = data_glob.shape[0]\n",
        "h = data_glob.shape[1]\n",
        "w = data_glob.shape[2]\n",
        "data_glob = data_glob.reshape(n,h*w)\n",
        "#Scale data\n",
        "scaler = preprocessing.StandardScaler().fit(data_glob)\n",
        "data_glob = scaler.transform(data_glob)\n",
        "data_glob = data_glob.reshape(n,h,w)\n",
        "#Exclude categorical variables\n",
        "#data_glob = np.delete(data_glob,np.array(np.where(unqs<14))[0],axis=0)\n",
        "n = data_glob.shape[0]\n",
        "\n",
        "fp = '/content/drive/MyDrive/Project_data_IDEAMAPS/lagos/lag_training_data/lag_training_2021.tif'\n",
        "img = rasterio.open(fp)\n",
        "data_loc = img.read()\n",
        "data_loc = np.array(data_loc)\n",
        "#Combine data\n",
        "y = np.array(data_loc[0,...]).reshape(1,h,w)\n",
        "x = data_glob\n",
        "data = np.concatenate((y,x),axis=0)\n",
        "data = data.reshape(data.shape[0], -1)\n",
        "#Train data\n",
        "data_train_lagos = data[:, ~np.isnan(data).any(axis=0)]\n",
        "#data_train = data_train[:, (data_train!=-999).any(axis=0)]\n",
        "data_train_lagos = data_train_lagos[:, data_train_lagos[0,...]!=-999]\n",
        "y_lagos = data_train_lagos[0,...]\n",
        "x_lagos = data_train_lagos[1:,...]\n",
        "\n",
        "common_feat_lagos = [0,5,9,10,11,12,13,14,15,16,17,18,19,20,21,22,23,24,25,27,28,29,30,31,32,33,34,35,38,39,40,41,42,43,44,45,46,47,48,49,51,53,54,55,57,58]\n",
        "x_lagos = x_lagos[common_feat_lagos,...]\n",
        "x_lagos = np.transpose(x_lagos)\n",
        "print(x_lagos.shape)"
      ],
      "metadata": {
        "id": "S3408HnnKi_L"
      },
      "execution_count": null,
      "outputs": []
    },
    {
      "cell_type": "code",
      "source": [
        ""
      ],
      "metadata": {
        "id": "8WzC6QUnKjBm"
      },
      "execution_count": null,
      "outputs": []
    }
  ]
}